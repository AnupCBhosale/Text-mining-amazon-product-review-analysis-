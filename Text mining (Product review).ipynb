{
 "cells": [
  {
   "cell_type": "markdown",
   "id": "c5491b9e",
   "metadata": {},
   "source": [
    "## Extract reviews of any product from ecommerce website like amazon, Perform emotion mining\n",
    "\n"
   ]
  },
  {
   "cell_type": "code",
   "execution_count": 1,
   "id": "3a6d36dc",
   "metadata": {},
   "outputs": [],
   "source": [
    "import numpy as np\n",
    "import pandas as pd\n",
    "import string\n",
    "import spacy\n",
    "\n",
    "from matplotlib.pyplot import imread\n",
    "from matplotlib import pyplot as plt\n",
    "import seaborn as sns\n",
    "from wordcloud import WordCloud, STOPWORDS\n",
    "from nltk import tokenize\n",
    "\n",
    "%matplotlib inline"
   ]
  },
  {
   "cell_type": "code",
   "execution_count": 5,
   "id": "f2b9051b",
   "metadata": {},
   "outputs": [
    {
     "data": {
      "text/html": [
       "<div>\n",
       "<style scoped>\n",
       "    .dataframe tbody tr th:only-of-type {\n",
       "        vertical-align: middle;\n",
       "    }\n",
       "\n",
       "    .dataframe tbody tr th {\n",
       "        vertical-align: top;\n",
       "    }\n",
       "\n",
       "    .dataframe thead th {\n",
       "        text-align: right;\n",
       "    }\n",
       "</style>\n",
       "<table border=\"1\" class=\"dataframe\">\n",
       "  <thead>\n",
       "    <tr style=\"text-align: right;\">\n",
       "      <th></th>\n",
       "      <th>stars</th>\n",
       "      <th>comment</th>\n",
       "    </tr>\n",
       "  </thead>\n",
       "  <tbody>\n",
       "    <tr>\n",
       "      <th>0</th>\n",
       "      <td>4.0 out of 5 stars</td>\n",
       "      <td>\\n\\n\\n\\n\\n\\n\\n\\n\\n\\n  \\n  \\n    \\n  As a first...</td>\n",
       "    </tr>\n",
       "    <tr>\n",
       "      <th>1</th>\n",
       "      <td>5.0 out of 5 stars</td>\n",
       "      <td>\\n\\n\\n\\n\\n\\n\\n\\n\\n\\n  \\n  \\n    \\n  excellant ...</td>\n",
       "    </tr>\n",
       "    <tr>\n",
       "      <th>2</th>\n",
       "      <td>4.0 out of 5 stars</td>\n",
       "      <td>\\n\\n\\n\\n\\n\\n\\n\\n\\n\\n  \\n  \\n    \\n  Good\\n\\n  \\n</td>\n",
       "    </tr>\n",
       "    <tr>\n",
       "      <th>3</th>\n",
       "      <td>1.0 out of 5 stars</td>\n",
       "      <td>\\n\\n\\n\\n\\n\\n\\n\\n\\n\\n  \\n  \\n    \\n  Not value ...</td>\n",
       "    </tr>\n",
       "    <tr>\n",
       "      <th>4</th>\n",
       "      <td>4.0 out of 5 stars</td>\n",
       "      <td>\\n\\n\\n\\n\\n\\n\\n\\n\\n\\n  \\n  \\n    \\n  As a first...</td>\n",
       "    </tr>\n",
       "    <tr>\n",
       "      <th>...</th>\n",
       "      <td>...</td>\n",
       "      <td>...</td>\n",
       "    </tr>\n",
       "    <tr>\n",
       "      <th>1195</th>\n",
       "      <td>5.0 out of 5 stars</td>\n",
       "      <td>\\n\\n\\n\\n\\n\\n\\n\\n\\n\\n  \\n  \\n    \\n  Nice one i...</td>\n",
       "    </tr>\n",
       "    <tr>\n",
       "      <th>1196</th>\n",
       "      <td>5.0 out of 5 stars</td>\n",
       "      <td>\\n\\n\\n\\n\\n\\n\\n\\n\\n\\n  \\n  \\n    \\n  The best p...</td>\n",
       "    </tr>\n",
       "    <tr>\n",
       "      <th>1197</th>\n",
       "      <td>1.0 out of 5 stars</td>\n",
       "      <td>\\n\\n\\n\\n\\n\\n\\n\\n\\n\\n  \\n  \\n    \\n  Size chart...</td>\n",
       "    </tr>\n",
       "    <tr>\n",
       "      <th>1198</th>\n",
       "      <td>5.0 out of 5 stars</td>\n",
       "      <td>\\n\\n\\n\\n\\n\\n\\n\\n\\n\\n\\n\\n\\n\\n\\n\\n\\n    \\n    \\n...</td>\n",
       "    </tr>\n",
       "    <tr>\n",
       "      <th>1199</th>\n",
       "      <td>5.0 out of 5 stars</td>\n",
       "      <td>\\n\\n\\n\\n\\n\\n\\n\\n\\n\\n\\n\\n\\n\\n\\n\\n\\n    \\n    \\n...</td>\n",
       "    </tr>\n",
       "  </tbody>\n",
       "</table>\n",
       "<p>1200 rows × 2 columns</p>\n",
       "</div>"
      ],
      "text/plain": [
       "                   stars                                            comment\n",
       "0     4.0 out of 5 stars  \\n\\n\\n\\n\\n\\n\\n\\n\\n\\n  \\n  \\n    \\n  As a first...\n",
       "1     5.0 out of 5 stars  \\n\\n\\n\\n\\n\\n\\n\\n\\n\\n  \\n  \\n    \\n  excellant ...\n",
       "2     4.0 out of 5 stars   \\n\\n\\n\\n\\n\\n\\n\\n\\n\\n  \\n  \\n    \\n  Good\\n\\n  \\n\n",
       "3     1.0 out of 5 stars  \\n\\n\\n\\n\\n\\n\\n\\n\\n\\n  \\n  \\n    \\n  Not value ...\n",
       "4     4.0 out of 5 stars  \\n\\n\\n\\n\\n\\n\\n\\n\\n\\n  \\n  \\n    \\n  As a first...\n",
       "...                  ...                                                ...\n",
       "1195  5.0 out of 5 stars  \\n\\n\\n\\n\\n\\n\\n\\n\\n\\n  \\n  \\n    \\n  Nice one i...\n",
       "1196  5.0 out of 5 stars  \\n\\n\\n\\n\\n\\n\\n\\n\\n\\n  \\n  \\n    \\n  The best p...\n",
       "1197  1.0 out of 5 stars  \\n\\n\\n\\n\\n\\n\\n\\n\\n\\n  \\n  \\n    \\n  Size chart...\n",
       "1198  5.0 out of 5 stars  \\n\\n\\n\\n\\n\\n\\n\\n\\n\\n\\n\\n\\n\\n\\n\\n\\n    \\n    \\n...\n",
       "1199  5.0 out of 5 stars  \\n\\n\\n\\n\\n\\n\\n\\n\\n\\n\\n\\n\\n\\n\\n\\n\\n    \\n    \\n...\n",
       "\n",
       "[1200 rows x 2 columns]"
      ]
     },
     "execution_count": 5,
     "metadata": {},
     "output_type": "execute_result"
    }
   ],
   "source": [
    "# extracted amazon customer reviews of product using scrapy and spider\n",
    "\n",
    "df_reviews = pd.read_csv('extract_reviews_SparxMensRunningShoes.csv')\n",
    "df_reviews"
   ]
  },
  {
   "cell_type": "code",
   "execution_count": 15,
   "id": "14cc9842",
   "metadata": {},
   "outputs": [],
   "source": [
    "# Remove both the leading and the trailing characters\n",
    "df_reviews = [comment.strip() for comment in df_reviews.comment]\n",
    "\n",
    "# Removes empty strings, because they are considered in Python as False\n",
    "df_reviews = [comment for comment in df_reviews if comment]"
   ]
  },
  {
   "cell_type": "code",
   "execution_count": 16,
   "id": "3a9c16c2",
   "metadata": {},
   "outputs": [
    {
     "data": {
      "text/plain": [
       "['As a first impression shoes are very nice by fitting and comfort. It weighs around 290gm per shoe.Shoe sole is very soft.I will update again the review after using it for 1 month.',\n",
       " 'excellant running shoes for road as well as treadmill, these are third shoes from this brand. real value for money. gives thesame comfort where for other brands we pay 3000 and above.',\n",
       " 'Good',\n",
       " 'Not value for money ,I feel cheated as first it was sold for 750 approx then price was increased to 1150 approx , then also after reading reviews i bought it ,but quality is not upto the mark .I was given a used shoes as the soles were rubbed . Inner fitting is bit tight as well . Not at happy with the product , I guess some reviews are fake or paid.',\n",
       " 'As a first impression shoes are very nice by fitting and comfort. It weighs around 290gm per shoe.Shoe sole is very soft.I will update again the review after using it for 1 month.',\n",
       " 'As a first impression shoes are very nice by fitting and comfort. It weighs around 290gm per shoe.Shoe sole is very soft.I will update again the review after using it for 1 month.',\n",
       " 'As a first impression shoes are very nice by fitting and comfort. It weighs around 290gm per shoe.Shoe sole is very soft.I will update again the review after using it for 1 month.',\n",
       " 'As a first impression shoes are very nice by fitting and comfort. It weighs around 290gm per shoe.Shoe sole is very soft.I will update again the review after using it for 1 month.',\n",
       " 'As a first impression shoes are very nice by fitting and comfort. It weighs around 290gm per shoe.Shoe sole is very soft.I will update again the review after using it for 1 month.',\n",
       " 'As a first impression shoes are very nice by fitting and comfort. It weighs around 290gm per shoe.Shoe sole is very soft.I will update again the review after using it for 1 month.']"
      ]
     },
     "execution_count": 16,
     "metadata": {},
     "output_type": "execute_result"
    }
   ],
   "source": [
    "df_reviews[0:10]"
   ]
  },
  {
   "cell_type": "code",
   "execution_count": 9,
   "id": "24ad64f2",
   "metadata": {},
   "outputs": [
    {
     "data": {
      "text/plain": [
       "(2477, 2)"
      ]
     },
     "execution_count": 9,
     "metadata": {},
     "output_type": "execute_result"
    }
   ],
   "source": [
    "# For Sentiment analysis\n",
    "\n",
    "afinn = pd.read_csv('Afinn.csv', sep=',', encoding='latin-1')\n",
    "afinn.shape"
   ]
  },
  {
   "cell_type": "code",
   "execution_count": 11,
   "id": "73366359",
   "metadata": {},
   "outputs": [
    {
     "data": {
      "text/html": [
       "<div>\n",
       "<style scoped>\n",
       "    .dataframe tbody tr th:only-of-type {\n",
       "        vertical-align: middle;\n",
       "    }\n",
       "\n",
       "    .dataframe tbody tr th {\n",
       "        vertical-align: top;\n",
       "    }\n",
       "\n",
       "    .dataframe thead th {\n",
       "        text-align: right;\n",
       "    }\n",
       "</style>\n",
       "<table border=\"1\" class=\"dataframe\">\n",
       "  <thead>\n",
       "    <tr style=\"text-align: right;\">\n",
       "      <th></th>\n",
       "      <th>word</th>\n",
       "      <th>value</th>\n",
       "    </tr>\n",
       "  </thead>\n",
       "  <tbody>\n",
       "    <tr>\n",
       "      <th>0</th>\n",
       "      <td>abandon</td>\n",
       "      <td>-2</td>\n",
       "    </tr>\n",
       "    <tr>\n",
       "      <th>1</th>\n",
       "      <td>abandoned</td>\n",
       "      <td>-2</td>\n",
       "    </tr>\n",
       "    <tr>\n",
       "      <th>2</th>\n",
       "      <td>abandons</td>\n",
       "      <td>-2</td>\n",
       "    </tr>\n",
       "    <tr>\n",
       "      <th>3</th>\n",
       "      <td>abducted</td>\n",
       "      <td>-2</td>\n",
       "    </tr>\n",
       "    <tr>\n",
       "      <th>4</th>\n",
       "      <td>abduction</td>\n",
       "      <td>-2</td>\n",
       "    </tr>\n",
       "  </tbody>\n",
       "</table>\n",
       "</div>"
      ],
      "text/plain": [
       "        word  value\n",
       "0    abandon     -2\n",
       "1  abandoned     -2\n",
       "2   abandons     -2\n",
       "3   abducted     -2\n",
       "4  abduction     -2"
      ]
     },
     "execution_count": 11,
     "metadata": {},
     "output_type": "execute_result"
    }
   ],
   "source": [
    "afinn.head()"
   ]
  },
  {
   "cell_type": "code",
   "execution_count": 17,
   "id": "4c2b0046",
   "metadata": {},
   "outputs": [
    {
     "data": {
      "text/plain": [
       "['Good Not value for money ,I feel cheated as first it was sold for 750 approx then price was increased to 1150 approx , then also after reading reviews i bought it ,but quality is not upto the mark .I was given a used shoes as the soles were rubbed .',\n",
       " 'Inner fitting is bit tight as well .',\n",
       " 'Not at happy with the product , I guess some reviews are fake or paid.',\n",
       " 'As a first impression shoes are very nice by fitting and comfort.',\n",
       " 'It weighs around 290gm per shoe.Shoe sole is very soft.I will update again the review after using it for 1 month.',\n",
       " 'As a first impression shoes are very nice by fitting and comfort.',\n",
       " 'It weighs around 290gm per shoe.Shoe sole is very soft.I will update again the review after using it for 1 month.',\n",
       " 'As a first impression shoes are very nice by fitting and comfort.',\n",
       " 'It weighs around 290gm per shoe.Shoe sole is very soft.I will update again the review after using it for 1 month.',\n",
       " 'As a first impression shoes are very nice by fitting and comfort.']"
      ]
     },
     "execution_count": 17,
     "metadata": {},
     "output_type": "execute_result"
    }
   ],
   "source": [
    "sentences = tokenize.sent_tokenize(\" \".join(df_reviews))\n",
    "sentences[5:15]"
   ]
  },
  {
   "cell_type": "code",
   "execution_count": 18,
   "id": "313130f1",
   "metadata": {},
   "outputs": [
    {
     "data": {
      "text/html": [
       "<div>\n",
       "<style scoped>\n",
       "    .dataframe tbody tr th:only-of-type {\n",
       "        vertical-align: middle;\n",
       "    }\n",
       "\n",
       "    .dataframe tbody tr th {\n",
       "        vertical-align: top;\n",
       "    }\n",
       "\n",
       "    .dataframe thead th {\n",
       "        text-align: right;\n",
       "    }\n",
       "</style>\n",
       "<table border=\"1\" class=\"dataframe\">\n",
       "  <thead>\n",
       "    <tr style=\"text-align: right;\">\n",
       "      <th></th>\n",
       "      <th>sentence</th>\n",
       "    </tr>\n",
       "  </thead>\n",
       "  <tbody>\n",
       "    <tr>\n",
       "      <th>0</th>\n",
       "      <td>As a first impression shoes are very nice by f...</td>\n",
       "    </tr>\n",
       "    <tr>\n",
       "      <th>1</th>\n",
       "      <td>It weighs around 290gm per shoe.Shoe sole is v...</td>\n",
       "    </tr>\n",
       "    <tr>\n",
       "      <th>2</th>\n",
       "      <td>excellant running shoes for road as well as tr...</td>\n",
       "    </tr>\n",
       "    <tr>\n",
       "      <th>3</th>\n",
       "      <td>real value for money.</td>\n",
       "    </tr>\n",
       "    <tr>\n",
       "      <th>4</th>\n",
       "      <td>gives thesame comfort where for other brands w...</td>\n",
       "    </tr>\n",
       "    <tr>\n",
       "      <th>...</th>\n",
       "      <td>...</td>\n",
       "    </tr>\n",
       "    <tr>\n",
       "      <th>2156</th>\n",
       "      <td>❌Overall best shoesI personally used for runni...</td>\n",
       "    </tr>\n",
       "    <tr>\n",
       "      <th>2157</th>\n",
       "      <td>not found useful Your browser does not support...</td>\n",
       "    </tr>\n",
       "    <tr>\n",
       "      <th>2158</th>\n",
       "      <td>Luxury.I exhanged 8 number shoes with 7.I boug...</td>\n",
       "    </tr>\n",
       "    <tr>\n",
       "      <th>2159</th>\n",
       "      <td>Your browser does not support HTML5 video.</td>\n",
       "    </tr>\n",
       "    <tr>\n",
       "      <th>2160</th>\n",
       "      <td>Very good product as I expected , well design ...</td>\n",
       "    </tr>\n",
       "  </tbody>\n",
       "</table>\n",
       "<p>2161 rows × 1 columns</p>\n",
       "</div>"
      ],
      "text/plain": [
       "                                               sentence\n",
       "0     As a first impression shoes are very nice by f...\n",
       "1     It weighs around 290gm per shoe.Shoe sole is v...\n",
       "2     excellant running shoes for road as well as tr...\n",
       "3                                 real value for money.\n",
       "4     gives thesame comfort where for other brands w...\n",
       "...                                                 ...\n",
       "2156  ❌Overall best shoesI personally used for runni...\n",
       "2157  not found useful Your browser does not support...\n",
       "2158  Luxury.I exhanged 8 number shoes with 7.I boug...\n",
       "2159         Your browser does not support HTML5 video.\n",
       "2160  Very good product as I expected , well design ...\n",
       "\n",
       "[2161 rows x 1 columns]"
      ]
     },
     "execution_count": 18,
     "metadata": {},
     "output_type": "execute_result"
    }
   ],
   "source": [
    "df_reviews2 = pd.DataFrame(sentences, columns=['sentence'])\n",
    "df_reviews2"
   ]
  },
  {
   "cell_type": "code",
   "execution_count": 19,
   "id": "c74abc2d",
   "metadata": {},
   "outputs": [],
   "source": [
    "affinity_scores = afinn.set_index('word')['value'].to_dict()"
   ]
  },
  {
   "cell_type": "code",
   "execution_count": 21,
   "id": "9c3b6b6c",
   "metadata": {},
   "outputs": [],
   "source": [
    "# Custom function :score each word in a sentence in lemmatised form, \n",
    "# but calculate the score for the whole original sentence.\n",
    "\n",
    "nlp = spacy.load('en_core_web_sm')\n",
    "sentiment_lexicon = affinity_scores\n",
    "\n",
    "def calculate_sentiment(text: str = None):\n",
    "    sent_score = 0\n",
    "    if text:\n",
    "        sentence = nlp(text)\n",
    "        for word in sentence:\n",
    "            sent_score += sentiment_lexicon.get(word.lemma_, 0)\n",
    "    return sent_score"
   ]
  },
  {
   "cell_type": "code",
   "execution_count": 22,
   "id": "9c3e8027",
   "metadata": {},
   "outputs": [
    {
     "data": {
      "text/plain": [
       "4"
      ]
     },
     "execution_count": 22,
     "metadata": {},
     "output_type": "execute_result"
    }
   ],
   "source": [
    "# Test that it works\n",
    "calculate_sentiment(text = 'amazing')"
   ]
  },
  {
   "cell_type": "code",
   "execution_count": 23,
   "id": "be8a6063",
   "metadata": {},
   "outputs": [],
   "source": [
    "df_reviews2['sentiment_value'] = df_reviews2['sentence'].apply(calculate_sentiment)"
   ]
  },
  {
   "cell_type": "code",
   "execution_count": 24,
   "id": "92e5e980",
   "metadata": {},
   "outputs": [
    {
     "data": {
      "text/plain": [
       "0    12\n",
       "1    21\n",
       "2    16\n",
       "3     4\n",
       "4    12\n",
       "5    51\n",
       "6     8\n",
       "7    15\n",
       "8    12\n",
       "9    21\n",
       "Name: word_count, dtype: int64"
      ]
     },
     "execution_count": 24,
     "metadata": {},
     "output_type": "execute_result"
    }
   ],
   "source": [
    "# Words in the sentence\n",
    "\n",
    "df_reviews2['word_count'] = df_reviews2['sentence'].str.split().apply(len)\n",
    "df_reviews2['word_count'].head(10)"
   ]
  },
  {
   "cell_type": "code",
   "execution_count": 29,
   "id": "e393f7c0",
   "metadata": {},
   "outputs": [
    {
     "data": {
      "text/html": [
       "<div>\n",
       "<style scoped>\n",
       "    .dataframe tbody tr th:only-of-type {\n",
       "        vertical-align: middle;\n",
       "    }\n",
       "\n",
       "    .dataframe tbody tr th {\n",
       "        vertical-align: top;\n",
       "    }\n",
       "\n",
       "    .dataframe thead th {\n",
       "        text-align: right;\n",
       "    }\n",
       "</style>\n",
       "<table border=\"1\" class=\"dataframe\">\n",
       "  <thead>\n",
       "    <tr style=\"text-align: right;\">\n",
       "      <th></th>\n",
       "      <th>sentence</th>\n",
       "      <th>sentiment_value</th>\n",
       "      <th>word_count</th>\n",
       "    </tr>\n",
       "  </thead>\n",
       "  <tbody>\n",
       "    <tr>\n",
       "      <th>848</th>\n",
       "      <td>Not value for money ,I feel cheated as first i...</td>\n",
       "      <td>-2</td>\n",
       "      <td>50</td>\n",
       "    </tr>\n",
       "    <tr>\n",
       "      <th>1871</th>\n",
       "      <td>Not value for money ,I feel cheated as first i...</td>\n",
       "      <td>-2</td>\n",
       "      <td>50</td>\n",
       "    </tr>\n",
       "    <tr>\n",
       "      <th>1788</th>\n",
       "      <td>Not value for money ,I feel cheated as first i...</td>\n",
       "      <td>-2</td>\n",
       "      <td>50</td>\n",
       "    </tr>\n",
       "    <tr>\n",
       "      <th>1755</th>\n",
       "      <td>Not value for money ,I feel cheated as first i...</td>\n",
       "      <td>-2</td>\n",
       "      <td>50</td>\n",
       "    </tr>\n",
       "    <tr>\n",
       "      <th>1818</th>\n",
       "      <td>Not value for money ,I feel cheated as first i...</td>\n",
       "      <td>-2</td>\n",
       "      <td>50</td>\n",
       "    </tr>\n",
       "    <tr>\n",
       "      <th>...</th>\n",
       "      <td>...</td>\n",
       "      <td>...</td>\n",
       "      <td>...</td>\n",
       "    </tr>\n",
       "    <tr>\n",
       "      <th>119</th>\n",
       "      <td>Very good product as I expected , well design ...</td>\n",
       "      <td>18</td>\n",
       "      <td>61</td>\n",
       "    </tr>\n",
       "    <tr>\n",
       "      <th>707</th>\n",
       "      <td>Very good product as I expected , well design ...</td>\n",
       "      <td>18</td>\n",
       "      <td>61</td>\n",
       "    </tr>\n",
       "    <tr>\n",
       "      <th>1390</th>\n",
       "      <td>Very good product as I expected , well design ...</td>\n",
       "      <td>18</td>\n",
       "      <td>61</td>\n",
       "    </tr>\n",
       "    <tr>\n",
       "      <th>2132</th>\n",
       "      <td>Very good product as I expected , well design ...</td>\n",
       "      <td>18</td>\n",
       "      <td>61</td>\n",
       "    </tr>\n",
       "    <tr>\n",
       "      <th>745</th>\n",
       "      <td>Very good product as I expected , well design ...</td>\n",
       "      <td>18</td>\n",
       "      <td>61</td>\n",
       "    </tr>\n",
       "  </tbody>\n",
       "</table>\n",
       "<p>2161 rows × 3 columns</p>\n",
       "</div>"
      ],
      "text/plain": [
       "                                               sentence  sentiment_value  \\\n",
       "848   Not value for money ,I feel cheated as first i...               -2   \n",
       "1871  Not value for money ,I feel cheated as first i...               -2   \n",
       "1788  Not value for money ,I feel cheated as first i...               -2   \n",
       "1755  Not value for money ,I feel cheated as first i...               -2   \n",
       "1818  Not value for money ,I feel cheated as first i...               -2   \n",
       "...                                                 ...              ...   \n",
       "119   Very good product as I expected , well design ...               18   \n",
       "707   Very good product as I expected , well design ...               18   \n",
       "1390  Very good product as I expected , well design ...               18   \n",
       "2132  Very good product as I expected , well design ...               18   \n",
       "745   Very good product as I expected , well design ...               18   \n",
       "\n",
       "      word_count  \n",
       "848           50  \n",
       "1871          50  \n",
       "1788          50  \n",
       "1755          50  \n",
       "1818          50  \n",
       "...          ...  \n",
       "119           61  \n",
       "707           61  \n",
       "1390          61  \n",
       "2132          61  \n",
       "745           61  \n",
       "\n",
       "[2161 rows x 3 columns]"
      ]
     },
     "execution_count": 29,
     "metadata": {},
     "output_type": "execute_result"
    }
   ],
   "source": [
    "df_reviews2.sort_values(by='sentiment_value')"
   ]
  },
  {
   "cell_type": "code",
   "execution_count": 28,
   "id": "100a8bf3",
   "metadata": {},
   "outputs": [
    {
     "data": {
      "text/plain": [
       "count    2161.000000\n",
       "mean        3.430356\n",
       "std         4.173981\n",
       "min        -2.000000\n",
       "25%         0.000000\n",
       "50%         2.000000\n",
       "75%         5.000000\n",
       "max        18.000000\n",
       "Name: sentiment_value, dtype: float64"
      ]
     },
     "execution_count": 28,
     "metadata": {},
     "output_type": "execute_result"
    }
   ],
   "source": [
    "# Sentiment score of the whole review\n",
    "\n",
    "df_reviews2['sentiment_value'].describe()"
   ]
  },
  {
   "cell_type": "code",
   "execution_count": 30,
   "id": "5889b890",
   "metadata": {},
   "outputs": [
    {
     "data": {
      "text/html": [
       "<div>\n",
       "<style scoped>\n",
       "    .dataframe tbody tr th:only-of-type {\n",
       "        vertical-align: middle;\n",
       "    }\n",
       "\n",
       "    .dataframe tbody tr th {\n",
       "        vertical-align: top;\n",
       "    }\n",
       "\n",
       "    .dataframe thead th {\n",
       "        text-align: right;\n",
       "    }\n",
       "</style>\n",
       "<table border=\"1\" class=\"dataframe\">\n",
       "  <thead>\n",
       "    <tr style=\"text-align: right;\">\n",
       "      <th></th>\n",
       "      <th>sentence</th>\n",
       "      <th>sentiment_value</th>\n",
       "      <th>word_count</th>\n",
       "    </tr>\n",
       "  </thead>\n",
       "  <tbody>\n",
       "    <tr>\n",
       "      <th>1</th>\n",
       "      <td>It weighs around 290gm per shoe.Shoe sole is v...</td>\n",
       "      <td>0</td>\n",
       "      <td>21</td>\n",
       "    </tr>\n",
       "    <tr>\n",
       "      <th>2</th>\n",
       "      <td>excellant running shoes for road as well as tr...</td>\n",
       "      <td>0</td>\n",
       "      <td>16</td>\n",
       "    </tr>\n",
       "    <tr>\n",
       "      <th>3</th>\n",
       "      <td>real value for money.</td>\n",
       "      <td>0</td>\n",
       "      <td>4</td>\n",
       "    </tr>\n",
       "    <tr>\n",
       "      <th>6</th>\n",
       "      <td>Inner fitting is bit tight as well .</td>\n",
       "      <td>0</td>\n",
       "      <td>8</td>\n",
       "    </tr>\n",
       "    <tr>\n",
       "      <th>7</th>\n",
       "      <td>Not at happy with the product , I guess some r...</td>\n",
       "      <td>-1</td>\n",
       "      <td>15</td>\n",
       "    </tr>\n",
       "  </tbody>\n",
       "</table>\n",
       "</div>"
      ],
      "text/plain": [
       "                                            sentence  sentiment_value  \\\n",
       "1  It weighs around 290gm per shoe.Shoe sole is v...                0   \n",
       "2  excellant running shoes for road as well as tr...                0   \n",
       "3                              real value for money.                0   \n",
       "6               Inner fitting is bit tight as well .                0   \n",
       "7  Not at happy with the product , I guess some r...               -1   \n",
       "\n",
       "   word_count  \n",
       "1          21  \n",
       "2          16  \n",
       "3           4  \n",
       "6           8  \n",
       "7          15  "
      ]
     },
     "execution_count": 30,
     "metadata": {},
     "output_type": "execute_result"
    }
   ],
   "source": [
    "# Sentiment score of the whole review\n",
    "\n",
    "df_reviews2[df_reviews2['sentiment_value']<=0].head()"
   ]
  },
  {
   "cell_type": "code",
   "execution_count": 33,
   "id": "ed3b56b8",
   "metadata": {},
   "outputs": [
    {
     "data": {
      "text/html": [
       "<div>\n",
       "<style scoped>\n",
       "    .dataframe tbody tr th:only-of-type {\n",
       "        vertical-align: middle;\n",
       "    }\n",
       "\n",
       "    .dataframe tbody tr th {\n",
       "        vertical-align: top;\n",
       "    }\n",
       "\n",
       "    .dataframe thead th {\n",
       "        text-align: right;\n",
       "    }\n",
       "</style>\n",
       "<table border=\"1\" class=\"dataframe\">\n",
       "  <thead>\n",
       "    <tr style=\"text-align: right;\">\n",
       "      <th></th>\n",
       "      <th>sentence</th>\n",
       "      <th>sentiment_value</th>\n",
       "      <th>word_count</th>\n",
       "    </tr>\n",
       "  </thead>\n",
       "  <tbody>\n",
       "    <tr>\n",
       "      <th>111</th>\n",
       "      <td>Very good product as I expected , well design ...</td>\n",
       "      <td>15</td>\n",
       "      <td>62</td>\n",
       "    </tr>\n",
       "    <tr>\n",
       "      <th>119</th>\n",
       "      <td>Very good product as I expected , well design ...</td>\n",
       "      <td>18</td>\n",
       "      <td>61</td>\n",
       "    </tr>\n",
       "    <tr>\n",
       "      <th>144</th>\n",
       "      <td>Very good product as I expected , well design ...</td>\n",
       "      <td>18</td>\n",
       "      <td>61</td>\n",
       "    </tr>\n",
       "    <tr>\n",
       "      <th>265</th>\n",
       "      <td>Very good product as I expected , well design ...</td>\n",
       "      <td>18</td>\n",
       "      <td>61</td>\n",
       "    </tr>\n",
       "    <tr>\n",
       "      <th>273</th>\n",
       "      <td>Very good product as I expected , well design ...</td>\n",
       "      <td>18</td>\n",
       "      <td>61</td>\n",
       "    </tr>\n",
       "  </tbody>\n",
       "</table>\n",
       "</div>"
      ],
      "text/plain": [
       "                                              sentence  sentiment_value  \\\n",
       "111  Very good product as I expected , well design ...               15   \n",
       "119  Very good product as I expected , well design ...               18   \n",
       "144  Very good product as I expected , well design ...               18   \n",
       "265  Very good product as I expected , well design ...               18   \n",
       "273  Very good product as I expected , well design ...               18   \n",
       "\n",
       "     word_count  \n",
       "111          62  \n",
       "119          61  \n",
       "144          61  \n",
       "265          61  \n",
       "273          61  "
      ]
     },
     "execution_count": 33,
     "metadata": {},
     "output_type": "execute_result"
    }
   ],
   "source": [
    "df_reviews2[df_reviews2['sentiment_value']>=15].head()"
   ]
  },
  {
   "cell_type": "code",
   "execution_count": 35,
   "id": "505dd629",
   "metadata": {},
   "outputs": [
    {
     "data": {
      "text/html": [
       "<div>\n",
       "<style scoped>\n",
       "    .dataframe tbody tr th:only-of-type {\n",
       "        vertical-align: middle;\n",
       "    }\n",
       "\n",
       "    .dataframe tbody tr th {\n",
       "        vertical-align: top;\n",
       "    }\n",
       "\n",
       "    .dataframe thead th {\n",
       "        text-align: right;\n",
       "    }\n",
       "</style>\n",
       "<table border=\"1\" class=\"dataframe\">\n",
       "  <thead>\n",
       "    <tr style=\"text-align: right;\">\n",
       "      <th></th>\n",
       "      <th>sentence</th>\n",
       "      <th>sentiment_value</th>\n",
       "      <th>word_count</th>\n",
       "      <th>index</th>\n",
       "    </tr>\n",
       "  </thead>\n",
       "  <tbody>\n",
       "    <tr>\n",
       "      <th>0</th>\n",
       "      <td>As a first impression shoes are very nice by f...</td>\n",
       "      <td>5</td>\n",
       "      <td>12</td>\n",
       "      <td>0</td>\n",
       "    </tr>\n",
       "    <tr>\n",
       "      <th>1</th>\n",
       "      <td>It weighs around 290gm per shoe.Shoe sole is v...</td>\n",
       "      <td>0</td>\n",
       "      <td>21</td>\n",
       "      <td>1</td>\n",
       "    </tr>\n",
       "    <tr>\n",
       "      <th>2</th>\n",
       "      <td>excellant running shoes for road as well as tr...</td>\n",
       "      <td>0</td>\n",
       "      <td>16</td>\n",
       "      <td>2</td>\n",
       "    </tr>\n",
       "    <tr>\n",
       "      <th>3</th>\n",
       "      <td>real value for money.</td>\n",
       "      <td>0</td>\n",
       "      <td>4</td>\n",
       "      <td>3</td>\n",
       "    </tr>\n",
       "    <tr>\n",
       "      <th>4</th>\n",
       "      <td>gives thesame comfort where for other brands w...</td>\n",
       "      <td>1</td>\n",
       "      <td>12</td>\n",
       "      <td>4</td>\n",
       "    </tr>\n",
       "    <tr>\n",
       "      <th>...</th>\n",
       "      <td>...</td>\n",
       "      <td>...</td>\n",
       "      <td>...</td>\n",
       "      <td>...</td>\n",
       "    </tr>\n",
       "    <tr>\n",
       "      <th>2156</th>\n",
       "      <td>❌Overall best shoesI personally used for runni...</td>\n",
       "      <td>7</td>\n",
       "      <td>40</td>\n",
       "      <td>2156</td>\n",
       "    </tr>\n",
       "    <tr>\n",
       "      <th>2157</th>\n",
       "      <td>not found useful Your browser does not support...</td>\n",
       "      <td>4</td>\n",
       "      <td>10</td>\n",
       "      <td>2157</td>\n",
       "    </tr>\n",
       "    <tr>\n",
       "      <th>2158</th>\n",
       "      <td>Luxury.I exhanged 8 number shoes with 7.I boug...</td>\n",
       "      <td>7</td>\n",
       "      <td>63</td>\n",
       "      <td>2158</td>\n",
       "    </tr>\n",
       "    <tr>\n",
       "      <th>2159</th>\n",
       "      <td>Your browser does not support HTML5 video.</td>\n",
       "      <td>2</td>\n",
       "      <td>7</td>\n",
       "      <td>2159</td>\n",
       "    </tr>\n",
       "    <tr>\n",
       "      <th>2160</th>\n",
       "      <td>Very good product as I expected , well design ...</td>\n",
       "      <td>13</td>\n",
       "      <td>49</td>\n",
       "      <td>2160</td>\n",
       "    </tr>\n",
       "  </tbody>\n",
       "</table>\n",
       "<p>2161 rows × 4 columns</p>\n",
       "</div>"
      ],
      "text/plain": [
       "                                               sentence  sentiment_value  \\\n",
       "0     As a first impression shoes are very nice by f...                5   \n",
       "1     It weighs around 290gm per shoe.Shoe sole is v...                0   \n",
       "2     excellant running shoes for road as well as tr...                0   \n",
       "3                                 real value for money.                0   \n",
       "4     gives thesame comfort where for other brands w...                1   \n",
       "...                                                 ...              ...   \n",
       "2156  ❌Overall best shoesI personally used for runni...                7   \n",
       "2157  not found useful Your browser does not support...                4   \n",
       "2158  Luxury.I exhanged 8 number shoes with 7.I boug...                7   \n",
       "2159         Your browser does not support HTML5 video.                2   \n",
       "2160  Very good product as I expected , well design ...               13   \n",
       "\n",
       "      word_count  index  \n",
       "0             12      0  \n",
       "1             21      1  \n",
       "2             16      2  \n",
       "3              4      3  \n",
       "4             12      4  \n",
       "...          ...    ...  \n",
       "2156          40   2156  \n",
       "2157          10   2157  \n",
       "2158          63   2158  \n",
       "2159           7   2159  \n",
       "2160          49   2160  \n",
       "\n",
       "[2161 rows x 4 columns]"
      ]
     },
     "execution_count": 35,
     "metadata": {},
     "output_type": "execute_result"
    }
   ],
   "source": [
    "# Add index column\n",
    "\n",
    "df_reviews2['index'] = range(0,len(df_reviews2))\n",
    "df_reviews2"
   ]
  },
  {
   "cell_type": "code",
   "execution_count": 36,
   "id": "3844a99c",
   "metadata": {},
   "outputs": [
    {
     "name": "stderr",
     "output_type": "stream",
     "text": [
      "C:\\ProgramData\\Anaconda3\\lib\\site-packages\\seaborn\\distributions.py:2557: FutureWarning: `distplot` is a deprecated function and will be removed in a future version. Please adapt your code to use either `displot` (a figure-level function with similar flexibility) or `histplot` (an axes-level function for histograms).\n",
      "  warnings.warn(msg, FutureWarning)\n"
     ]
    },
    {
     "data": {
      "text/plain": [
       "<AxesSubplot:xlabel='sentiment_value', ylabel='Density'>"
      ]
     },
     "execution_count": 36,
     "metadata": {},
     "output_type": "execute_result"
    },
    {
     "data": {
      "image/png": "[encoded data removed]",
      "text/plain": [
       "<Figure size 1080x720 with 1 Axes>"
      ]
     },
     "metadata": {
      "needs_background": "light"
     },
     "output_type": "display_data"
    }
   ],
   "source": [
    "# Plot the sentiment values\n",
    "\n",
    "plt.figure(figsize=(15, 10))\n",
    "sns.distplot(df_reviews2['sentiment_value'])"
   ]
  },
  {
   "cell_type": "code",
   "execution_count": 38,
   "id": "1aa48a77",
   "metadata": {},
   "outputs": [
    {
     "data": {
      "text/plain": [
       "<AxesSubplot:xlabel='index', ylabel='sentiment_value'>"
      ]
     },
     "execution_count": 38,
     "metadata": {},
     "output_type": "execute_result"
    },
    {
     "data": {
      "image/png": "[encoded data removed]",
      "text/plain": [
       "<Figure size 1080x720 with 1 Axes>"
      ]
     },
     "metadata": {
      "needs_background": "light"
     },
     "output_type": "display_data"
    }
   ],
   "source": [
    "# Line plot for sentiment values\n",
    "\n",
    "plt.figure(figsize=(15, 10))\n",
    "sns.lineplot(y='sentiment_value', x='index', data=df_reviews2)"
   ]
  },
  {
   "cell_type": "code",
   "execution_count": 39,
   "id": "659f73be",
   "metadata": {},
   "outputs": [
    {
     "data": {
      "text/plain": [
       "<AxesSubplot:title={'center':'Sentence sentiment value to sentence word count'}, xlabel='word_count', ylabel='sentiment_value'>"
      ]
     },
     "execution_count": 39,
     "metadata": {},
     "output_type": "execute_result"
    },
    {
     "data": {
      "image/png": "[encoded data removed]",
      "text/plain": [
       "<Figure size 1080x720 with 1 Axes>"
      ]
     },
     "metadata": {
      "needs_background": "light"
     },
     "output_type": "display_data"
    }
   ],
   "source": [
    "# Correlation\n",
    "\n",
    "df_reviews2.plot.scatter(x='word_count', y='sentiment_value', figsize=(15, 10), \n",
    "                     title='Sentence sentiment value to sentence word count')"
   ]
  }
 ],
 "metadata": {
  "kernelspec": {
   "display_name": "Python 3",
   "language": "python",
   "name": "python3"
  },
  "language_info": {
   "codemirror_mode": {
    "name": "ipython",
    "version": 3
   },
   "file_extension": ".py",
   "mimetype": "text/x-python",
   "name": "python",
   "nbconvert_exporter": "python",
   "pygments_lexer": "ipython3",
   "version": "3.8.8"
  }
 },
 "nbformat": 4,
 "nbformat_minor": 5
}
